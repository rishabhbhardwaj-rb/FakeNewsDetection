{
  "nbformat": 4,
  "nbformat_minor": 0,
  "metadata": {
    "colab": {
      "provenance": [],
      "authorship_tag": "ABX9TyMyKGKiW74vYMF5s7oKuvem",
      "include_colab_link": true
    },
    "kernelspec": {
      "name": "python3",
      "display_name": "Python 3"
    },
    "language_info": {
      "name": "python"
    },
    "gpuClass": "standard"
  },
  "cells": [
    {
      "cell_type": "markdown",
      "metadata": {
        "id": "view-in-github",
        "colab_type": "text"
      },
      "source": [
        "<a href=\"https://colab.research.google.com/github/rishabhbhardwaj-rb/FakeNewsDetection/blob/main/Notebooks/Models.ipynb\" target=\"_parent\"><img src=\"https://colab.research.google.com/assets/colab-badge.svg\" alt=\"Open In Colab\"/></a>"
      ]
    },
    {
      "cell_type": "code",
      "execution_count": null,
      "metadata": {
        "colab": {
          "base_uri": "https://localhost:8080/"
        },
        "id": "GkTjDy17xsnt",
        "outputId": "f84978cc-d5ea-43f7-bedc-f5123bc3cc32"
      },
      "outputs": [
        {
          "output_type": "stream",
          "name": "stdout",
          "text": [
            "Mounted at /content/drive\n"
          ]
        }
      ],
      "source": [
        "from google.colab import drive\n",
        "drive.mount('/content/drive')"
      ]
    },
    {
      "cell_type": "code",
      "source": [
        "import numpy as np \n",
        "import pandas as pd\n",
        "from sklearn.linear_model import LogisticRegression\n",
        "from sklearn.neighbors import KNeighborsClassifier\n",
        "from sklearn.ensemble import RandomForestClassifier\n",
        "from sklearn.svm import SVC\n",
        "from sklearn.naive_bayes import GaussianNB\n",
        "from sklearn.model_selection import cross_val_score"
      ],
      "metadata": {
        "id": "9pod6Najx1qd"
      },
      "execution_count": null,
      "outputs": []
    },
    {
      "cell_type": "code",
      "source": [
        "train_data = pd.read_csv(\"/content/drive/MyDrive/FNDS/Dataset/CleanedDataset/train_data.zip\", encoding='utf-8')\n",
        "test_data = pd.read_csv(\"/content/drive/MyDrive/FNDS/Dataset/CleanedDataset/test_data.zip\", encoding='utf-8')"
      ],
      "metadata": {
        "id": "jfakIuUVygdC"
      },
      "execution_count": null,
      "outputs": []
    },
    {
      "cell_type": "code",
      "source": [
        "Y_train = train_data['label'].values\n",
        "Y_test = test_data['label'].values"
      ],
      "metadata": {
        "id": "CnbCOaO6yyMp"
      },
      "execution_count": null,
      "outputs": []
    },
    {
      "cell_type": "code",
      "source": [
        "X_train = train_data.drop(['label','content'], axis = 1).values\n",
        "X_test = test_data.drop(['label','content'], axis = 1).values"
      ],
      "metadata": {
        "id": "B-zKkRPuzeHW"
      },
      "execution_count": null,
      "outputs": []
    },
    {
      "cell_type": "code",
      "source": [
        "X_train.shape,X_test.shape"
      ],
      "metadata": {
        "colab": {
          "base_uri": "https://localhost:8080/"
        },
        "id": "FAMAZiPFzlJ8",
        "outputId": "3ac04786-d204-47de-ec88-38478fd0a7cc"
      },
      "execution_count": null,
      "outputs": [
        {
          "output_type": "execute_result",
          "data": {
            "text/plain": [
              "((13373, 85), (5732, 85))"
            ]
          },
          "metadata": {},
          "execution_count": 8
        }
      ]
    },
    {
      "cell_type": "markdown",
      "source": [
        "#VOTING ENSEMBLE"
      ],
      "metadata": {
        "id": "_wt-fmLT0E7Z"
      }
    },
    {
      "cell_type": "code",
      "source": [
        "clf1 = LogisticRegression()\n",
        "clf2 = KNeighborsClassifier()\n",
        "clf3 = RandomForestClassifier()\n"
      ],
      "metadata": {
        "id": "pQWTX5G5zoqw"
      },
      "execution_count": null,
      "outputs": []
    },
    {
      "cell_type": "code",
      "source": [
        "estimators = [('lr',clf1),('knn',clf2),('rf',clf3)]"
      ],
      "metadata": {
        "id": "OMpDQbKj0Rgy"
      },
      "execution_count": null,
      "outputs": []
    },
    {
      "cell_type": "code",
      "source": [
        "clf1.fit(X_train, Y_train)\n",
        "print(\"Training Accuracy: \", clf1.score(X_train, Y_train))\n",
        "print(\"Testing AccuracY: \", clf1.score(X_test, Y_test))"
      ],
      "metadata": {
        "colab": {
          "base_uri": "https://localhost:8080/"
        },
        "id": "Is1suh4CAhWT",
        "outputId": "181b9e8b-3938-4d72-af72-270db869b521"
      },
      "execution_count": null,
      "outputs": [
        {
          "output_type": "stream",
          "name": "stdout",
          "text": [
            "Training Accuracy:  0.6306737456068197\n",
            "Testing AccuracY:  0.6357292393579902\n"
          ]
        },
        {
          "output_type": "stream",
          "name": "stderr",
          "text": [
            "/usr/local/lib/python3.8/dist-packages/sklearn/linear_model/_logistic.py:814: ConvergenceWarning: lbfgs failed to converge (status=1):\n",
            "STOP: TOTAL NO. of ITERATIONS REACHED LIMIT.\n",
            "\n",
            "Increase the number of iterations (max_iter) or scale the data as shown in:\n",
            "    https://scikit-learn.org/stable/modules/preprocessing.html\n",
            "Please also refer to the documentation for alternative solver options:\n",
            "    https://scikit-learn.org/stable/modules/linear_model.html#logistic-regression\n",
            "  n_iter_i = _check_optimize_result(\n"
          ]
        }
      ]
    },
    {
      "cell_type": "code",
      "source": [
        "clf2.fit(X_train,Y_train)\n",
        "print(\"Training Accuracy: \", clf2.score(X_train, Y_train))\n",
        "print(\"Testing AccuracY: \", clf2.score(X_test, Y_test))"
      ],
      "metadata": {
        "colab": {
          "base_uri": "https://localhost:8080/"
        },
        "id": "GsxI_8K4A64K",
        "outputId": "a3721c68-2376-476f-9c82-24c7379000b3"
      },
      "execution_count": null,
      "outputs": [
        {
          "output_type": "stream",
          "name": "stdout",
          "text": [
            "Training Accuracy:  0.7136768114858296\n",
            "Testing AccuracY:  0.5776343335659456\n"
          ]
        }
      ]
    },
    {
      "cell_type": "code",
      "source": [
        "clf3.fit(X_train,Y_train)\n",
        "print(\"Training Accuracy: \", clf3.score(X_train, Y_train))\n",
        "print(\"Testing AccuracY: \", clf3.score(X_test, Y_test))"
      ],
      "metadata": {
        "colab": {
          "base_uri": "https://localhost:8080/"
        },
        "id": "by4XdknUBH5K",
        "outputId": "ce18a9c5-5631-4e93-de17-472b2ba110fc"
      },
      "execution_count": null,
      "outputs": [
        {
          "output_type": "stream",
          "name": "stdout",
          "text": [
            "Training Accuracy:  0.9997756673895162\n",
            "Testing AccuracY:  0.6582344731332868\n"
          ]
        }
      ]
    },
    {
      "cell_type": "code",
      "source": [
        "from sklearn.ensemble import VotingClassifier\n"
      ],
      "metadata": {
        "id": "UX1XKuEO0XiZ"
      },
      "execution_count": null,
      "outputs": []
    },
    {
      "cell_type": "markdown",
      "source": [
        "##Hard Voting"
      ],
      "metadata": {
        "id": "KAAKCyz0G1QU"
      }
    },
    {
      "cell_type": "code",
      "source": [
        "vc1 = VotingClassifier(estimators=estimators,voting='hard')"
      ],
      "metadata": {
        "id": "h0zFblNX2OjW"
      },
      "execution_count": null,
      "outputs": []
    },
    {
      "cell_type": "code",
      "source": [
        "vc1.fit(X_train,Y_train)\n",
        "print(\"Training Accuracy: \", vc1.score(X_train, Y_train))\n",
        "print(\"Testing AccuracY: \", vc1.score(X_test, Y_test))"
      ],
      "metadata": {
        "colab": {
          "base_uri": "https://localhost:8080/"
        },
        "id": "WhV0AykWBcyU",
        "outputId": "7740ad49-cb2d-4c14-a5ce-5f5232eb724f"
      },
      "execution_count": null,
      "outputs": [
        {
          "output_type": "stream",
          "name": "stderr",
          "text": [
            "/usr/local/lib/python3.8/dist-packages/sklearn/linear_model/_logistic.py:814: ConvergenceWarning: lbfgs failed to converge (status=1):\n",
            "STOP: TOTAL NO. of ITERATIONS REACHED LIMIT.\n",
            "\n",
            "Increase the number of iterations (max_iter) or scale the data as shown in:\n",
            "    https://scikit-learn.org/stable/modules/preprocessing.html\n",
            "Please also refer to the documentation for alternative solver options:\n",
            "    https://scikit-learn.org/stable/modules/linear_model.html#logistic-regression\n",
            "  n_iter_i = _check_optimize_result(\n"
          ]
        },
        {
          "output_type": "stream",
          "name": "stdout",
          "text": [
            "Training Accuracy:  0.8522395872279968\n",
            "Testing AccuracY:  0.6489881367759944\n"
          ]
        }
      ]
    },
    {
      "cell_type": "markdown",
      "source": [
        "##Soft Voting"
      ],
      "metadata": {
        "id": "M4wcZyBGG7mU"
      }
    },
    {
      "cell_type": "code",
      "source": [
        "vc2 = VotingClassifier(estimators=estimators,voting='soft')"
      ],
      "metadata": {
        "id": "E59HHC61Blwb"
      },
      "execution_count": null,
      "outputs": []
    },
    {
      "cell_type": "code",
      "source": [
        "vc2.fit(X_train,Y_train)\n",
        "print(\"Training Accuracy: \", vc2.score(X_train, Y_train))\n",
        "print(\"Testing AccuracY: \", vc2.score(X_test, Y_test))"
      ],
      "metadata": {
        "colab": {
          "base_uri": "https://localhost:8080/"
        },
        "id": "AmAIojYMBvCY",
        "outputId": "74496844-d77f-4aad-e87f-55c91e64671d"
      },
      "execution_count": null,
      "outputs": [
        {
          "output_type": "stream",
          "name": "stderr",
          "text": [
            "/usr/local/lib/python3.8/dist-packages/sklearn/linear_model/_logistic.py:814: ConvergenceWarning: lbfgs failed to converge (status=1):\n",
            "STOP: TOTAL NO. of ITERATIONS REACHED LIMIT.\n",
            "\n",
            "Increase the number of iterations (max_iter) or scale the data as shown in:\n",
            "    https://scikit-learn.org/stable/modules/preprocessing.html\n",
            "Please also refer to the documentation for alternative solver options:\n",
            "    https://scikit-learn.org/stable/modules/linear_model.html#logistic-regression\n",
            "  n_iter_i = _check_optimize_result(\n"
          ]
        },
        {
          "output_type": "stream",
          "name": "stdout",
          "text": [
            "Training Accuracy:  0.9413744111268975\n",
            "Testing AccuracY:  0.6338101884159106\n"
          ]
        }
      ]
    },
    {
      "cell_type": "markdown",
      "source": [
        "##BAGGING"
      ],
      "metadata": {
        "id": "pKEiaUdobUQE"
      }
    },
    {
      "cell_type": "code",
      "source": [
        "from sklearn.ensemble import BaggingClassifier\n",
        "from sklearn.tree import DecisionTreeClassifier\n",
        "from sklearn.model_selection import GridSearchCV\n",
        "from sklearn.ensemble import RandomForestClassifier"
      ],
      "metadata": {
        "id": "2_Q402DJB4vT"
      },
      "execution_count": null,
      "outputs": []
    },
    {
      "cell_type": "code",
      "source": [
        "parameters = {\n",
        "    'n_estimators': [100,500], \n",
        "    'max_samples': [0.4,0.55,0.7],\n",
        "    'bootstrap' : [True,False],\n",
        "    'max_features' : [0.4,0.55,0.7]\n",
        "    }"
      ],
      "metadata": {
        "id": "aS85lbKRLxfe"
      },
      "execution_count": null,
      "outputs": []
    },
    {
      "cell_type": "code",
      "source": [
        "search = GridSearchCV(BaggingClassifier(), parameters, cv=2,verbose=1)"
      ],
      "metadata": {
        "id": "D0Ihpk3LL1_J"
      },
      "execution_count": null,
      "outputs": []
    },
    {
      "cell_type": "code",
      "source": [
        "search.fit(X_train,Y_train)"
      ],
      "metadata": {
        "colab": {
          "base_uri": "https://localhost:8080/"
        },
        "id": "O5QWaBUrL71_",
        "outputId": "1913190e-6079-4335-fc3b-d69b74d2cd79"
      },
      "execution_count": null,
      "outputs": [
        {
          "output_type": "stream",
          "name": "stdout",
          "text": [
            "Fitting 2 folds for each of 36 candidates, totalling 72 fits\n"
          ]
        },
        {
          "output_type": "execute_result",
          "data": {
            "text/plain": [
              "GridSearchCV(cv=2, estimator=BaggingClassifier(),\n",
              "             param_grid={'bootstrap': [True, False],\n",
              "                         'max_features': [0.4, 0.55, 0.7],\n",
              "                         'max_samples': [0.4, 0.55, 0.7],\n",
              "                         'n_estimators': [100, 500]},\n",
              "             verbose=1)"
            ]
          },
          "metadata": {},
          "execution_count": 16
        }
      ]
    },
    {
      "cell_type": "code",
      "source": [
        "search.best_score_\n"
      ],
      "metadata": {
        "colab": {
          "base_uri": "https://localhost:8080/"
        },
        "id": "gJy0dq02L-2y",
        "outputId": "dd117909-c0d9-4bb8-b2c9-e71798ef70a4"
      },
      "execution_count": null,
      "outputs": [
        {
          "output_type": "execute_result",
          "data": {
            "text/plain": [
              "0.6536302349923669"
            ]
          },
          "metadata": {},
          "execution_count": 17
        }
      ]
    },
    {
      "cell_type": "code",
      "source": [
        "search.best_params_"
      ],
      "metadata": {
        "colab": {
          "base_uri": "https://localhost:8080/"
        },
        "id": "VgxC7H8yaeS4",
        "outputId": "399a5107-a4b2-4a08-e821-00cd3f2b3e43"
      },
      "execution_count": null,
      "outputs": [
        {
          "output_type": "execute_result",
          "data": {
            "text/plain": [
              "{'bootstrap': True,\n",
              " 'max_features': 0.7,\n",
              " 'max_samples': 0.55,\n",
              " 'n_estimators': 500}"
            ]
          },
          "metadata": {},
          "execution_count": 18
        }
      ]
    },
    {
      "cell_type": "code",
      "source": [
        "bag = BaggingClassifier(\n",
        "    base_estimator=DecisionTreeClassifier(),\n",
        "    n_estimators=500,\n",
        "    max_samples=0.55,\n",
        "    max_features=0.7,\n",
        "    bootstrap=True,\n",
        "    random_state=42\n",
        ")"
      ],
      "metadata": {
        "id": "sNCMYQ-Ss27I"
      },
      "execution_count": null,
      "outputs": []
    },
    {
      "cell_type": "code",
      "source": [
        "bag.fit(X_train,Y_train)\n",
        "print(\"Training Accuracy: \", bag.score(X_train, Y_train))\n",
        "print(\"Testing AccuracY: \", bag.score(X_test, Y_test))"
      ],
      "metadata": {
        "colab": {
          "base_uri": "https://localhost:8080/"
        },
        "id": "gcoeHnyrtFl2",
        "outputId": "ad022aa9-315b-41c3-954e-157d2d36d931"
      },
      "execution_count": null,
      "outputs": [
        {
          "output_type": "stream",
          "name": "stdout",
          "text": [
            "Training Accuracy:  0.9972332311373663\n",
            "Testing AccuracY:  0.6606769016050245\n"
          ]
        }
      ]
    },
    {
      "cell_type": "markdown",
      "source": [
        "##RANDOM FOREST"
      ],
      "metadata": {
        "id": "AoOG9zVHf0q4"
      }
    },
    {
      "cell_type": "code",
      "source": [
        "# Number of trees in random forest\n",
        "n_estimators = [20,60,100,120]\n",
        "\n",
        "# Number of features to consider at every split\n",
        "max_features = [0.2,0.6,1.0]\n",
        "\n",
        "# Maximum number of levels in tree\n",
        "max_depth = [2,8,None]\n",
        "\n",
        "# Number of samples\n",
        "max_samples = [0.5,0.75,1.0]\n"
      ],
      "metadata": {
        "id": "b9s3cs25tSBI"
      },
      "execution_count": null,
      "outputs": []
    },
    {
      "cell_type": "code",
      "source": [
        "param_grid = {'n_estimators': n_estimators,\n",
        "               'max_features': max_features,\n",
        "               'max_depth': max_depth,\n",
        "              'max_samples':max_samples\n",
        "             }"
      ],
      "metadata": {
        "id": "eQYweXv8P4_T"
      },
      "execution_count": null,
      "outputs": []
    },
    {
      "cell_type": "code",
      "source": [
        "rf = RandomForestClassifier()"
      ],
      "metadata": {
        "id": "R_TwJMggP8FW"
      },
      "execution_count": null,
      "outputs": []
    },
    {
      "cell_type": "code",
      "source": [
        "rf_grid = GridSearchCV(estimator = rf, \n",
        "                       param_grid = param_grid, \n",
        "                       cv = 2, \n",
        "                       verbose=2, \n",
        "                       n_jobs = -1)"
      ],
      "metadata": {
        "id": "ZxAbBHD_P-iP"
      },
      "execution_count": null,
      "outputs": []
    },
    {
      "cell_type": "code",
      "source": [
        "rf_grid.fit(X_train,Y_train)\n"
      ],
      "metadata": {
        "colab": {
          "base_uri": "https://localhost:8080/"
        },
        "id": "TkBrjMeOQClr",
        "outputId": "d2313cab-fc08-4442-f27f-ba83f711d6e4"
      },
      "execution_count": null,
      "outputs": [
        {
          "output_type": "stream",
          "name": "stdout",
          "text": [
            "Fitting 2 folds for each of 108 candidates, totalling 216 fits\n"
          ]
        },
        {
          "output_type": "execute_result",
          "data": {
            "text/plain": [
              "GridSearchCV(cv=2, estimator=RandomForestClassifier(), n_jobs=-1,\n",
              "             param_grid={'max_depth': [2, 8, None],\n",
              "                         'max_features': [0.2, 0.6, 1.0],\n",
              "                         'max_samples': [0.5, 0.75, 1.0],\n",
              "                         'n_estimators': [20, 60, 100, 120]},\n",
              "             verbose=2)"
            ]
          },
          "metadata": {},
          "execution_count": 15
        }
      ]
    },
    {
      "cell_type": "code",
      "source": [
        "rf_grid.best_params_"
      ],
      "metadata": {
        "colab": {
          "base_uri": "https://localhost:8080/"
        },
        "id": "aXtyxNyJQG4k",
        "outputId": "8ab9d7c7-371c-403a-e0a9-7694b93b003e"
      },
      "execution_count": null,
      "outputs": [
        {
          "output_type": "execute_result",
          "data": {
            "text/plain": [
              "{'max_depth': 8, 'max_features': 0.2, 'max_samples': 0.5, 'n_estimators': 100}"
            ]
          },
          "metadata": {},
          "execution_count": 16
        }
      ]
    },
    {
      "cell_type": "code",
      "source": [
        "rf_grid.best_score_"
      ],
      "metadata": {
        "colab": {
          "base_uri": "https://localhost:8080/"
        },
        "id": "Ji-cjcEfXWYc",
        "outputId": "975e6abf-5445-4207-f0e8-0a0f5cca3ba4"
      },
      "execution_count": null,
      "outputs": [
        {
          "output_type": "execute_result",
          "data": {
            "text/plain": [
              "0.6513866963911431"
            ]
          },
          "metadata": {},
          "execution_count": 17
        }
      ]
    },
    {
      "cell_type": "code",
      "source": [
        "rf1 = RandomForestClassifier(n_estimators=100,max_depth=8,max_features=0.2,max_samples=0.5,random_state=42)"
      ],
      "metadata": {
        "id": "ujpZQ73IXY4H"
      },
      "execution_count": null,
      "outputs": []
    },
    {
      "cell_type": "code",
      "source": [
        "rf1.fit(X_train, Y_train)\n",
        "print(\"Training Accuracy: \", rf1.score(X_train, Y_train))\n",
        "print(\"Testing AccuracY: \", rf1.score(X_test, Y_test))"
      ],
      "metadata": {
        "colab": {
          "base_uri": "https://localhost:8080/"
        },
        "id": "V7j84laNX3CG",
        "outputId": "76c7da27-89dd-47d1-fe0d-107e2d542247"
      },
      "execution_count": null,
      "outputs": [
        {
          "output_type": "stream",
          "name": "stdout",
          "text": [
            "Training Accuracy:  0.7356614073132431\n",
            "Testing AccuracY:  0.6584089323098395\n"
          ]
        }
      ]
    },
    {
      "cell_type": "markdown",
      "source": [
        "#BOOSTING"
      ],
      "metadata": {
        "id": "Ahx5sEUy4OYx"
      }
    },
    {
      "cell_type": "markdown",
      "source": [
        "##Gradient Boosting"
      ],
      "metadata": {
        "id": "mK0KGu274XCk"
      }
    },
    {
      "cell_type": "code",
      "source": [
        "from sklearn.ensemble import GradientBoostingClassifier"
      ],
      "metadata": {
        "id": "_X9X67XXmnRA"
      },
      "execution_count": null,
      "outputs": []
    },
    {
      "cell_type": "code",
      "source": [
        "gbc = GradientBoostingClassifier()\n",
        "parameters = {\n",
        "    \"n_estimators\":[5,50,250,500],\n",
        "    \"max_depth\":[1,3,5,7,9],\n",
        "    \"learning_rate\":[0.01,0.1,1,10]\n",
        "}"
      ],
      "metadata": {
        "id": "hnfLsbpn6obi"
      },
      "execution_count": null,
      "outputs": []
    },
    {
      "cell_type": "code",
      "source": [
        "cv = GridSearchCV(gbc,\n",
        "                  parameters,\n",
        "                  cv=3,\n",
        "                  verbose=2, \n",
        "                  n_jobs = -1)\n",
        "cv.fit(X_train,Y_train)\n"
      ],
      "metadata": {
        "colab": {
          "base_uri": "https://localhost:8080/"
        },
        "id": "kvrfFQ166v7s",
        "outputId": "03d77a5c-1709-415e-b9a8-947e4c0705a1"
      },
      "execution_count": null,
      "outputs": [
        {
          "output_type": "stream",
          "name": "stdout",
          "text": [
            "Fitting 3 folds for each of 80 candidates, totalling 240 fits\n"
          ]
        },
        {
          "output_type": "execute_result",
          "data": {
            "text/plain": [
              "GridSearchCV(cv=3, estimator=GradientBoostingClassifier(), n_jobs=-1,\n",
              "             param_grid={'learning_rate': [0.01, 0.1, 1, 10],\n",
              "                         'max_depth': [1, 3, 5, 7, 9],\n",
              "                         'n_estimators': [5, 50, 250, 500]},\n",
              "             verbose=2)"
            ]
          },
          "metadata": {},
          "execution_count": 25
        }
      ]
    },
    {
      "cell_type": "code",
      "source": [
        "cv.best_score_"
      ],
      "metadata": {
        "colab": {
          "base_uri": "https://localhost:8080/"
        },
        "id": "yxmk3IrS7Tog",
        "outputId": "59252cc9-6495-4494-cb31-f4f78e5ff87f"
      },
      "execution_count": null,
      "outputs": [
        {
          "output_type": "execute_result",
          "data": {
            "text/plain": [
              "0.6499669557322906"
            ]
          },
          "metadata": {},
          "execution_count": 26
        }
      ]
    },
    {
      "cell_type": "code",
      "source": [
        "cv.best_params_"
      ],
      "metadata": {
        "colab": {
          "base_uri": "https://localhost:8080/"
        },
        "id": "t1kxvb94Ovl6",
        "outputId": "7b5706c9-560a-4b09-dcc8-41b7eb01de1c"
      },
      "execution_count": null,
      "outputs": [
        {
          "output_type": "execute_result",
          "data": {
            "text/plain": [
              "{'learning_rate': 0.1, 'max_depth': 1, 'n_estimators': 500}"
            ]
          },
          "metadata": {},
          "execution_count": 28
        }
      ]
    },
    {
      "cell_type": "code",
      "source": [
        "gbc1 = GradientBoostingClassifier(n_estimators=500,\n",
        "                                 max_depth=1,\n",
        "                                 learning_rate=0.1)"
      ],
      "metadata": {
        "id": "p8B_ZK35Ox3W"
      },
      "execution_count": null,
      "outputs": []
    },
    {
      "cell_type": "code",
      "source": [
        "gbc1.fit(X_train,Y_train)\n",
        "print(\"Training Accuracy: \", gbc1.score(X_train, Y_train))\n",
        "print(\"Testing Accuracy: \", gbc1.score(X_test, Y_test))"
      ],
      "metadata": {
        "colab": {
          "base_uri": "https://localhost:8080/"
        },
        "id": "FPN-LZ9EPOL8",
        "outputId": "c41e1742-85ad-4ad0-b3a6-9e9dfd378d79"
      },
      "execution_count": null,
      "outputs": [
        {
          "output_type": "stream",
          "name": "stdout",
          "text": [
            "Training Accuracy:  0.665893965452778\n",
            "Testing Accuracy:  0.6549197487787858\n"
          ]
        }
      ]
    },
    {
      "cell_type": "markdown",
      "source": [
        "##XGBoost"
      ],
      "metadata": {
        "id": "QMxsWvtPP_JZ"
      }
    },
    {
      "cell_type": "code",
      "source": [
        "from xgboost import XGBClassifier"
      ],
      "metadata": {
        "id": "ORaQcx2VPcW5"
      },
      "execution_count": null,
      "outputs": []
    },
    {
      "cell_type": "code",
      "source": [
        "params={\n",
        " \"learning_rate\"    : [0.05, 0.10, 1] ,\n",
        " \"max_depth\"        : [ 5, 7, 9],\n",
        " \"min_child_weight\" : [ 3, 5, 7 ],\n",
        " \"gamma\"            : [ 0.0, 0.2, 0.4 ],\n",
        " \"colsample_bytree\" : [ 0.3, 0.5 , 0.7 ]\n",
        "    \n",
        "}"
      ],
      "metadata": {
        "id": "WejvwPQ7cS2h"
      },
      "execution_count": null,
      "outputs": []
    },
    {
      "cell_type": "code",
      "source": [
        "xgb = XGBClassifier()\n",
        "gsearch = GridSearchCV(xgb,\n",
        "                  params,\n",
        "                  cv=2,\n",
        "                  verbose=2, \n",
        "                  n_jobs = -1)\n",
        "gsearch.fit(X_train,Y_train)\n"
      ],
      "metadata": {
        "colab": {
          "base_uri": "https://localhost:8080/"
        },
        "id": "TYSBjlAqc5iW",
        "outputId": "cc78462b-2269-4d61-f256-7f0468d4da40"
      },
      "execution_count": null,
      "outputs": [
        {
          "output_type": "stream",
          "name": "stdout",
          "text": [
            "Fitting 2 folds for each of 243 candidates, totalling 486 fits\n"
          ]
        },
        {
          "output_type": "execute_result",
          "data": {
            "text/plain": [
              "GridSearchCV(cv=2, estimator=XGBClassifier(), n_jobs=-1,\n",
              "             param_grid={'colsample_bytree': [0.3, 0.5, 0.7],\n",
              "                         'gamma': [0.0, 0.2, 0.4],\n",
              "                         'learning_rate': [0.05, 0.1, 1],\n",
              "                         'max_depth': [5, 7, 9],\n",
              "                         'min_child_weight': [3, 5, 7]},\n",
              "             verbose=2)"
            ]
          },
          "metadata": {},
          "execution_count": 39
        }
      ]
    },
    {
      "cell_type": "code",
      "source": [
        "gsearch.best_score_"
      ],
      "metadata": {
        "colab": {
          "base_uri": "https://localhost:8080/"
        },
        "id": "eb3xOiwzdQnp",
        "outputId": "071efce9-96a3-4d62-fd7f-08bbe24840e3"
      },
      "execution_count": null,
      "outputs": [
        {
          "output_type": "execute_result",
          "data": {
            "text/plain": [
              "0.6553503252411882"
            ]
          },
          "metadata": {},
          "execution_count": 41
        }
      ]
    },
    {
      "cell_type": "code",
      "source": [
        "gsearch.best_params_"
      ],
      "metadata": {
        "colab": {
          "base_uri": "https://localhost:8080/"
        },
        "id": "A0_AtRzBiplO",
        "outputId": "ae0254a9-1926-400a-8d87-69dfcdbb38d5"
      },
      "execution_count": null,
      "outputs": [
        {
          "output_type": "execute_result",
          "data": {
            "text/plain": [
              "{'colsample_bytree': 0.7,\n",
              " 'gamma': 0.4,\n",
              " 'learning_rate': 0.05,\n",
              " 'max_depth': 7,\n",
              " 'min_child_weight': 7}"
            ]
          },
          "metadata": {},
          "execution_count": 43
        }
      ]
    },
    {
      "cell_type": "code",
      "source": [
        "xgb1 = XGBClassifier(colsample_bytree=0.7,\n",
        "                     gamma=0.4,\n",
        "                     learning_rate=0.05,\n",
        "                     max_depth=7,\n",
        "                     min_child_weight=7)\n",
        "xgb1.fit(X_train,Y_train)"
      ],
      "metadata": {
        "colab": {
          "base_uri": "https://localhost:8080/"
        },
        "id": "sjKuSdlnizpP",
        "outputId": "38c44e79-21f6-4886-f901-17e499884d67"
      },
      "execution_count": null,
      "outputs": [
        {
          "output_type": "execute_result",
          "data": {
            "text/plain": [
              "XGBClassifier(colsample_bytree=0.7, gamma=0.4, learning_rate=0.05, max_depth=7,\n",
              "              min_child_weight=7)"
            ]
          },
          "metadata": {},
          "execution_count": 44
        }
      ]
    },
    {
      "cell_type": "code",
      "source": [
        "print(\"Training Accuracy: \", xgb1.score(X_train, Y_train))\n",
        "print(\"Testing Accuracy: \", xgb1.score(X_test, Y_test))"
      ],
      "metadata": {
        "colab": {
          "base_uri": "https://localhost:8080/"
        },
        "id": "z8B0TXS5jSHW",
        "outputId": "c1b648dd-8145-479d-a0dd-e526f40a4820"
      },
      "execution_count": null,
      "outputs": [
        {
          "output_type": "stream",
          "name": "stdout",
          "text": [
            "Training Accuracy:  0.7895012338293577\n",
            "Testing Accuracy:  0.6627704117236567\n"
          ]
        }
      ]
    },
    {
      "cell_type": "code",
      "source": [],
      "metadata": {
        "id": "ch0m-0D9kL0J"
      },
      "execution_count": null,
      "outputs": []
    }
  ]
}